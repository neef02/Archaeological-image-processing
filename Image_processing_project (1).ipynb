{
  "cells": [
    {
      "cell_type": "code",
      "execution_count": null,
      "metadata": {
        "id": "3JKyW9N0DBkX"
      },
      "outputs": [],
      "source": [
        "import cv2\n",
        "import numpy as np\n",
        "import matplotlib.pyplot as plt"
      ]
    },
    {
      "cell_type": "code",
      "execution_count": null,
      "metadata": {
        "colab": {
          "base_uri": "https://localhost:8080/",
          "height": 406
        },
        "id": "fKOj37o2E4eK",
        "outputId": "398c1a34-7bee-4e43-b6da-b1f2af3c411c"
      },
      "outputs": [],
      "source": [
        "\n",
        "# Load the image\n",
        "image = cv2.imread('/content/1a.jpeg')\n",
        "\n",
        "\n",
        "image = cv2.cvtColor(image, cv2.COLOR_BGR2RGB)\n",
        "\n",
        "# Display the image\n",
        "plt.imshow(image)\n",
        "plt.axis('off')  # Remove axis ticks\n",
        "plt.show()\n",
        "\n"
      ]
    },
    {
      "cell_type": "code",
      "execution_count": null,
      "metadata": {
        "colab": {
          "base_uri": "https://localhost:8080/",
          "height": 360
        },
        "id": "Q7XoLPSqK1fy",
        "outputId": "b4187f21-1288-482c-cc40-57e8af8bb556"
      },
      "outputs": [],
      "source": [
        "import cv2\n",
        "import numpy as np\n",
        "from matplotlib import pyplot as plt\n",
        "\n",
        "# Load the image\n",
        "image = cv2.imread('/content/1a.jpeg')\n",
        "\n",
        "# Define the gamma values to apply\n",
        "gamma_values = [0.5, 1.0, 1.5, 2.0 , 3.0 ]\n",
        "\n",
        "# Create a figure to display the images\n",
        "fig, axes = plt.subplots(1, len(gamma_values) + 1, figsize=(20, 6))\n",
        "\n",
        "# Display the original image\n",
        "axes[0].imshow(cv2.cvtColor(image, cv2.COLOR_BGR2RGB))\n",
        "axes[0].set_title('Original')\n",
        "axes[0].axis('off')\n",
        "\n",
        "# Apply gamma correction to the image and display the resulting images\n",
        "for i, gamma in enumerate(gamma_values):\n",
        "    # Apply gamma correction\n",
        "    gamma_corrected = np.power(image / 255.0, gamma)\n",
        "    gamma_corrected = np.uint8(gamma_corrected * 255)\n",
        "\n",
        "    # Display the gamma-corrected image\n",
        "    axes[i+1].imshow(cv2.cvtColor(gamma_corrected, cv2.COLOR_BGR2RGB))\n",
        "    axes[i+1].set_title(f'Gamma = {gamma}')\n",
        "    axes[i+1].axis('off')\n",
        "\n",
        "plt.tight_layout()\n",
        "plt.show()"
      ]
    },
    {
      "cell_type": "code",
      "execution_count": null,
      "metadata": {
        "colab": {
          "base_uri": "https://localhost:8080/",
          "height": 507
        },
        "id": "2HCIPmTLQesD",
        "outputId": "8d1ebc56-ce88-4721-dd69-d8b2f46adb2c"
      },
      "outputs": [],
      "source": [
        "import cv2\n",
        "import numpy as np\n",
        "from matplotlib import pyplot as plt\n",
        "\n",
        "# Load the image\n",
        "image = cv2.imread('/content/1a.jpeg')\n",
        "\n",
        "# Split the image into color channels\n",
        "b, g, r = cv2.split(image)\n",
        "\n",
        "# Apply histogram equalization to each color channel\n",
        "eq_b = cv2.equalizeHist(b)\n",
        "eq_g = cv2.equalizeHist(g)\n",
        "eq_r = cv2.equalizeHist(r)\n",
        "\n",
        "# Merge the equalized color channels back into the image\n",
        "equalized_image = cv2.merge((eq_b, eq_g, eq_r))\n",
        "\n",
        "# Display the original and equalized images\n",
        "plt.figure(figsize=(10, 5))\n",
        "plt.subplot(1, 2, 1), plt.imshow(cv2.cvtColor(image, cv2.COLOR_BGR2RGB)), plt.title('Original')\n",
        "plt.subplot(1, 2, 2), plt.imshow(cv2.cvtColor(equalized_image, cv2.COLOR_BGR2RGB)), plt.title('Equalized')\n",
        "plt.tight_layout()\n",
        "plt.show()"
      ]
    },
    {
      "cell_type": "code",
      "execution_count": null,
      "metadata": {
        "colab": {
          "base_uri": "https://localhost:8080/",
          "height": 607
        },
        "id": "vOMlvHmNLNeB",
        "outputId": "f6a9d053-7b8a-435b-ff13-e42b3ace2a1a"
      },
      "outputs": [],
      "source": [
        "import cv2\n",
        "import numpy as np\n",
        "import matplotlib.pyplot as plt\n",
        "image = cv2.imread('/content/1a.jpeg')\n",
        "# Convert the image to grayscale\n",
        "gray = cv2.cvtColor(image, cv2.COLOR_BGR2GRAY)\n",
        "\n",
        "# Define the threshold value for shadow detection\n",
        "threshold = 130\n",
        "\n",
        "# Extract the shadow regions using thresholding\n",
        "_, binary = cv2.threshold(gray, threshold, 255, cv2.THRESH_BINARY_INV)\n",
        "\n",
        "# Display the original image and the extracted shadow regions\n",
        "plt.figure(figsize=(10, 6))\n",
        "plt.subplot(1, 2, 1), plt.imshow(cv2.cvtColor(image, cv2.COLOR_BGR2RGB)), plt.title('Original')\n",
        "plt.subplot(1, 2, 2), plt.imshow(binary, cmap='gray'), plt.title('Shadow Regions')\n",
        "plt.tight_layout()\n",
        "plt.show()"
      ]
    },
    {
      "cell_type": "code",
      "execution_count": null,
      "metadata": {
        "colab": {
          "base_uri": "https://localhost:8080/",
          "height": 607
        },
        "id": "J4Dd1XFDRNAA",
        "outputId": "55b7a0df-62aa-4a3d-add1-8d7ffe9b0d6a"
      },
      "outputs": [],
      "source": [
        "import cv2\n",
        "import numpy as np\n",
        "import matplotlib.pyplot as plt\n",
        "\n",
        "image = cv2.imread('/content/1a.jpeg')\n",
        "\n",
        "# Apply Gaussian blur to create a blurred version of the image\n",
        "blurred = cv2.GaussianBlur(image, (7, 7), 3)\n",
        "\n",
        "# Calculate the sharpened image by subtracting the blurred image from the original image\n",
        "sharpness_factor = 1.5  # Adjust this parameter for desired sharpness level\n",
        "sharpened = cv2.addWeighted(image, 1 + sharpness_factor, blurred, -sharpness_factor, 0)\n",
        "\n",
        "# Convert the image to grayscale\n",
        "gray = cv2.cvtColor(sharpened, cv2.COLOR_BGR2GRAY)\n",
        "\n",
        "\n",
        "\n",
        "\n",
        "# Define the threshold value for shadow detection\n",
        "threshold = 130\n",
        "\n",
        "# Extract the shadow regions using thresholding\n",
        "_, binary = cv2.threshold(gray, threshold, 255, cv2.THRESH_BINARY_INV)\n",
        "\n",
        "# Display the original image and the extracted shadow regions\n",
        "plt.figure(figsize=(10, 6))\n",
        "plt.subplot(1, 2, 1), plt.imshow(cv2.cvtColor(image, cv2.COLOR_BGR2RGB)), plt.title('Original')\n",
        "plt.subplot(1, 2, 2), plt.imshow(binary, cmap='gray'), plt.title('Shadow Regions')\n",
        "plt.tight_layout()\n",
        "plt.show()\n",
        "\n"
      ]
    },
    {
      "cell_type": "code",
      "execution_count": null,
      "metadata": {
        "colab": {
          "base_uri": "https://localhost:8080/",
          "height": 507
        },
        "id": "oLwc7c-8L5nW",
        "outputId": "012fa1ab-5b3b-4ddd-ba19-a002516fb155"
      },
      "outputs": [],
      "source": [
        "import cv2\n",
        "import numpy as np\n",
        "from matplotlib import pyplot as plt\n",
        "\n",
        "# Load the image\n",
        "image = cv2.imread('/content/1a.jpeg')\n",
        "\n",
        "# Convert the image to grayscale\n",
        "gray = cv2.cvtColor(image, cv2.COLOR_BGR2GRAY)\n",
        "\n",
        "# Define the gamma value\n",
        "gamma = 3.0\n",
        "\n",
        "# Apply gamma correction\n",
        "gamma_corrected = np.power(gray / 255.0, gamma)\n",
        "gamma_corrected = np.uint8(gamma_corrected * 255)\n",
        "\n",
        "# Calculate the difference between the gamma-corrected image and the original grayscale image\n",
        "diff = cv2.absdiff(gamma_corrected, gray)\n",
        "\n",
        "\n",
        "\n",
        "# Display the original image, gamma-corrected image, and the shadow mask\n",
        "plt.figure(figsize=(15, 5))\n",
        "plt.subplot(1, 3, 1), plt.imshow(cv2.cvtColor(image, cv2.COLOR_BGR2RGB)), plt.title('Original')\n",
        "plt.subplot(1, 3, 2), plt.imshow(gamma_corrected, cmap='gray'), plt.title('Gamma Corrected')\n",
        "\n",
        "plt.tight_layout()\n",
        "plt.show()"
      ]
    },
    {
      "cell_type": "code",
      "execution_count": null,
      "metadata": {
        "colab": {
          "base_uri": "https://localhost:8080/",
          "height": 607
        },
        "id": "OSssh_lLFHsE",
        "outputId": "f469fe6e-0e45-45ca-d07c-fe605ffc333b"
      },
      "outputs": [],
      "source": [
        "import cv2\n",
        "import numpy as np\n",
        "from matplotlib import pyplot as plt\n",
        "\n",
        "# Load the image\n",
        "image = cv2.imread('/content/1a.jpeg')\n",
        "\n",
        "# Convert the image to grayscale\n",
        "gray = cv2.cvtColor(image, cv2.COLOR_BGR2GRAY)\n",
        "\n",
        "# Apply Gaussian blur to the grayscale image\n",
        "blurred = cv2.GaussianBlur(gray, (5, 5), 0)\n",
        "\n",
        "# Calculate the unsharp mask\n",
        "unsharp_mask = cv2.addWeighted(gray, 1.5, blurred, -0.5, 0)\n",
        "\n",
        "# Apply gamma correction to the sharpened image\n",
        "gamma = 1.2\n",
        "sharpened_gamma = np.power(unsharp_mask / 255.0, gamma)\n",
        "sharpened_gamma = np.uint8(sharpened_gamma * 255)\n",
        "\n",
        "# Display the original image and the sharpened image\n",
        "plt.figure(figsize=(10, 6))\n",
        "plt.subplot(1, 2, 1), plt.imshow(cv2.cvtColor(image, cv2.COLOR_BGR2RGB)), plt.title('Original')\n",
        "plt.subplot(1, 2, 2), plt.imshow(sharpened_gamma, cmap='gray'), plt.title('Sharpened (Gamma Corrected)')\n",
        "plt.tight_layout()\n",
        "plt.show()"
      ]
    },
    {
      "cell_type": "markdown",
      "metadata": {
        "id": "bDqyxxYTOkhi"
      },
      "source": [
        "image 2\n"
      ]
    },
    {
      "cell_type": "code",
      "execution_count": null,
      "metadata": {
        "colab": {
          "base_uri": "https://localhost:8080/",
          "height": 524
        },
        "id": "tbJUeLUbNhTy",
        "outputId": "18dfe681-8472-4f33-817b-d09d4a384cec"
      },
      "outputs": [],
      "source": [
        "image2 = cv2.imread('/content/6.jpg')\n",
        "\n",
        "# Convert the image to grayscale\n",
        "gray = cv2.cvtColor(image2, cv2.COLOR_BGR2GRAY)\n",
        "\n",
        "# Apply Gaussian blur to reduce noise\n",
        "blurred = cv2.GaussianBlur(gray, (5, 5), 0)\n",
        "\n",
        "# Set the lower and upper threshold for edge detection\n",
        "threshold1 = 30\n",
        "threshold2 = 100\n",
        "\n",
        "# Apply Canny edge detection\n",
        "edges = cv2.Canny(blurred, threshold1, threshold2)\n",
        "\n",
        "# Display the original image and the extracted edges\n",
        "plt.figure(figsize=(10, 6))\n",
        "plt.subplot(1, 2, 1), plt.imshow(cv2.cvtColor(image2, cv2.COLOR_BGR2RGB)), plt.title('Original')\n",
        "plt.subplot(1, 2, 2), plt.imshow(edges, cmap='gray'), plt.title('Edges')\n",
        "plt.tight_layout()\n",
        "plt.show()"
      ]
    },
    {
      "cell_type": "code",
      "execution_count": null,
      "metadata": {
        "colab": {
          "base_uri": "https://localhost:8080/",
          "height": 524
        },
        "id": "EnUhpznbO8yY",
        "outputId": "eeb4f537-8778-499b-d7e0-1a9e4a898432"
      },
      "outputs": [],
      "source": [
        "import cv2\n",
        "import numpy as np\n",
        "from matplotlib import pyplot as plt\n",
        "\n",
        "# Load the image\n",
        "image = cv2.imread('/content/6.jpg')\n",
        "\n",
        "# Convert the image to grayscale\n",
        "gray = cv2.cvtColor(image, cv2.COLOR_BGR2GRAY)\n",
        "\n",
        "# Apply histogram stretching\n",
        "stretched_image = cv2.equalizeHist(gray)\n",
        "\n",
        "# Display the original and stretched images\n",
        "plt.figure(figsize=(10, 5))\n",
        "plt.subplot(1, 2, 1), plt.imshow(cv2.cvtColor(image, cv2.COLOR_BGR2RGB)), plt.title('Original')\n",
        "plt.subplot(1, 2, 2), plt.imshow(stretched_image, cmap='gray'), plt.title('Stretched')\n",
        "plt.tight_layout()\n",
        "plt.show()"
      ]
    },
    {
      "cell_type": "code",
      "execution_count": null,
      "metadata": {
        "colab": {
          "base_uri": "https://localhost:8080/",
          "height": 524
        },
        "id": "WE9MvSt2On5_",
        "outputId": "b95082c6-e484-4c04-9ce0-f5af5465f9da"
      },
      "outputs": [],
      "source": [
        "import cv2\n",
        "import numpy as np\n",
        "from matplotlib import pyplot as plt\n",
        "\n",
        "# Load the image\n",
        "image = cv2.imread('/content/6.jpg')\n",
        "\n",
        "# Split the image into color channels\n",
        "b, g, r = cv2.split(image)\n",
        "\n",
        "# Apply histogram equalization to each color channel\n",
        "eq_b = cv2.equalizeHist(b)\n",
        "eq_g = cv2.equalizeHist(g)\n",
        "eq_r = cv2.equalizeHist(r)\n",
        "\n",
        "# Merge the equalized color channels back into the image\n",
        "equalized_image = cv2.merge((eq_b, eq_g, eq_r))\n",
        "\n",
        "# Display the original and equalized images\n",
        "plt.figure(figsize=(10, 5))\n",
        "plt.subplot(1, 2, 1), plt.imshow(cv2.cvtColor(image, cv2.COLOR_BGR2RGB)), plt.title('Original')\n",
        "plt.subplot(1, 2, 2), plt.imshow(cv2.cvtColor(equalized_image, cv2.COLOR_BGR2RGB)), plt.title('Equalized')\n",
        "plt.tight_layout()\n",
        "plt.show()"
      ]
    },
    {
      "cell_type": "markdown",
      "metadata": {
        "id": "7GfOIFGNRVIQ"
      },
      "source": [
        "image 3\n"
      ]
    },
    {
      "cell_type": "code",
      "execution_count": null,
      "metadata": {
        "colab": {
          "base_uri": "https://localhost:8080/",
          "height": 524
        },
        "id": "vrZDwsjuNuAe",
        "outputId": "4dfd7e23-b1fd-4d69-de2a-8ce534780308"
      },
      "outputs": [],
      "source": [
        "import cv2\n",
        "import numpy as np\n",
        "from matplotlib import pyplot as plt\n",
        "\n",
        "# Load the image\n",
        "image = cv2.imread('/content/13.jpg')\n",
        "\n",
        "# Split the image into color channels\n",
        "b, g, r = cv2.split(image)\n",
        "\n",
        "# Apply histogram equalization to each color channel\n",
        "eq_b = cv2.equalizeHist(b)\n",
        "eq_g = cv2.equalizeHist(g)\n",
        "eq_r = cv2.equalizeHist(r)\n",
        "\n",
        "# Merge the equalized color channels back into the image\n",
        "equalized_image = cv2.merge((eq_b, eq_g, eq_r))\n",
        "\n",
        "# Display the original and equalized images\n",
        "plt.figure(figsize=(10, 5))\n",
        "plt.subplot(1, 2, 1), plt.imshow(cv2.cvtColor(image, cv2.COLOR_BGR2RGB)), plt.title('Original')\n",
        "plt.subplot(1, 2, 2), plt.imshow(cv2.cvtColor(equalized_image, cv2.COLOR_BGR2RGB)), plt.title('Equalized')\n",
        "plt.tight_layout()\n",
        "plt.show()"
      ]
    },
    {
      "cell_type": "code",
      "execution_count": null,
      "metadata": {
        "colab": {
          "base_uri": "https://localhost:8080/",
          "height": 524
        },
        "id": "bzewH5F5FadF",
        "outputId": "ba9df88f-da67-4bb1-8526-7fe8cd9bf537"
      },
      "outputs": [],
      "source": [
        "image2 = cv2.imread('/content/13.jpg')\n",
        "\n",
        "# Convert the image to grayscale\n",
        "gray = cv2.cvtColor(image2, cv2.COLOR_BGR2GRAY)\n",
        "\n",
        "# Apply Gaussian blur to reduce noise\n",
        "blurred = cv2.GaussianBlur(gray, (5, 5), 0)\n",
        "\n",
        "# Set the lower and upper threshold for edge detection\n",
        "threshold1 = 30\n",
        "threshold2 = 100\n",
        "\n",
        "# Apply Canny edge detection\n",
        "edges = cv2.Canny(blurred, threshold1, threshold2)\n",
        "\n",
        "# Display the original image and the extracted edges\n",
        "plt.figure(figsize=(10, 6))\n",
        "plt.subplot(1, 2, 1), plt.imshow(cv2.cvtColor(image2, cv2.COLOR_BGR2RGB)), plt.title('Original')\n",
        "plt.subplot(1, 2, 2), plt.imshow(edges, cmap='gray'), plt.title('Edges')\n",
        "plt.tight_layout()\n",
        "plt.show()"
      ]
    },
    {
      "cell_type": "code",
      "execution_count": null,
      "metadata": {
        "colab": {
          "base_uri": "https://localhost:8080/",
          "height": 524
        },
        "id": "lpp5zlK2u7ef",
        "outputId": "019b47e0-51a1-43ef-df8b-de22d5ab321f"
      },
      "outputs": [],
      "source": [
        "import cv2\n",
        "import numpy as np\n",
        "import matplotlib.pyplot as plt\n",
        "\n",
        "# Load the image\n",
        "\n",
        "\n",
        "# Apply Gaussian blur to create a blurred version of the image\n",
        "blurred = cv2.GaussianBlur(image2, (0, 0), 3)\n",
        "\n",
        "\n",
        "sharpness_factor = 1.5  # Adjust this parameter for desired sharpness level\n",
        "sharpened = cv2.addWeighted(image2, 1 + sharpness_factor, blurred, -sharpness_factor, 0)\n",
        "\n",
        "# Display the original image and the sharpened image\n",
        "plt.figure(figsize=(10, 6))\n",
        "plt.subplot(1, 2, 1), plt.imshow(cv2.cvtColor(image2, cv2.COLOR_BGR2RGB)), plt.title('Original')\n",
        "plt.subplot(1, 2, 2), plt.imshow(cv2.cvtColor(sharpened, cv2.COLOR_BGR2RGB)), plt.title('Sharpened')\n",
        "plt.tight_layout()\n",
        "plt.show()"
      ]
    },
    {
      "cell_type": "code",
      "execution_count": null,
      "metadata": {
        "colab": {
          "base_uri": "https://localhost:8080/",
          "height": 524
        },
        "id": "bGXVB9dCvp9N",
        "outputId": "65b80421-989d-4ce3-bb01-898d71d183c7"
      },
      "outputs": [],
      "source": [
        "import cv2\n",
        "import numpy as np\n",
        "import matplotlib.pyplot as plt\n",
        "\n",
        "# Load the image\n",
        "image = cv2.imread('/content/13.jpg')\n",
        "\n",
        "# Convert the image to grayscale\n",
        "gray = cv2.cvtColor(image, cv2.COLOR_BGR2GRAY)\n",
        "\n",
        "# Apply Otsu's thresholding to create a binary image\n",
        "_, binary = cv2.threshold(gray, 0, 255, cv2.THRESH_BINARY_INV | cv2.THRESH_OTSU)\n",
        "\n",
        "# Display the original image and the binary image\n",
        "plt.figure(figsize=(10, 6))\n",
        "plt.subplot(1, 2, 1), plt.imshow(cv2.cvtColor(image, cv2.COLOR_BGR2RGB)), plt.title('Original')\n",
        "plt.subplot(1, 2, 2), plt.imshow(binary, cmap='gray'), plt.title('Binary')\n",
        "plt.tight_layout()\n",
        "plt.show()"
      ]
    },
    {
      "cell_type": "code",
      "execution_count": null,
      "metadata": {
        "colab": {
          "base_uri": "https://localhost:8080/",
          "height": 524
        },
        "id": "qDf6Fu8JHlHe",
        "outputId": "5f0fb6f8-7311-471c-de42-118442a85b25"
      },
      "outputs": [],
      "source": [
        "import cv2\n",
        "import numpy as np\n",
        "import matplotlib.pyplot as plt\n",
        "\n",
        "\n",
        "\n",
        "# Convert the image to a floating-point representation\n",
        "image_float = image.astype(float)\n",
        "\n",
        "# Define the darkness factor (0.0 - 1.0, where 0.0 is completely black)\n",
        "darkness_factor = 0.3\n",
        "\n",
        "# Darken the image by scaling down the pixel values\n",
        "darkened_image = image_float * darkness_factor\n",
        "\n",
        "# Clip the pixel values to ensure they are within the valid range (0 - 255)\n",
        "darkened_image = np.clip(darkened_image, 0, 255)\n",
        "\n",
        "# Convert the image back to the unsigned 8-bit integer representation\n",
        "darkened_image = darkened_image.astype(np.uint8)\n",
        "\n",
        "# Display the original image and the darkened image\n",
        "plt.figure(figsize=(10, 6))\n",
        "plt.subplot(1, 2, 1), plt.imshow(cv2.cvtColor(image, cv2.COLOR_BGR2RGB)), plt.title('Original')\n",
        "plt.subplot(1, 2, 2), plt.imshow(cv2.cvtColor(darkened_image, cv2.COLOR_BGR2RGB)), plt.title('Darkened')\n",
        "plt.tight_layout()\n",
        "plt.show()"
      ]
    },
    {
      "cell_type": "code",
      "execution_count": null,
      "metadata": {
        "colab": {
          "base_uri": "https://localhost:8080/",
          "height": 395
        },
        "id": "QmXd-VO0SIXg",
        "outputId": "4aeba4ab-d943-41b0-ffc0-5f4a6a8e7c39"
      },
      "outputs": [],
      "source": [
        "import cv2\n",
        "import numpy as np\n",
        "from matplotlib import pyplot as plt\n",
        "\n",
        "# Load the image\n",
        "image = cv2.imread('/content/13.jpg')\n",
        "\n",
        "# Apply gamma correction with gamma value 1.5\n",
        "gamma = 1.5\n",
        "gamma_corrected = np.power(image / 255.0, gamma)\n",
        "gamma_corrected = np.uint8(gamma_corrected * 255)\n",
        "\n",
        "# Split the gamma-corrected image into color channels\n",
        "b, g, r = cv2.split(gamma_corrected)\n",
        "\n",
        "# Apply histogram equalization to each color channel\n",
        "eq_b = cv2.equalizeHist(b)\n",
        "eq_g = cv2.equalizeHist(g)\n",
        "eq_r = cv2.equalizeHist(r)\n",
        "\n",
        "# Merge the equalized color channels back into the image\n",
        "equalized_image = cv2.merge((eq_b, eq_g, eq_r))\n",
        "\n",
        "# Display the original image, gamma-corrected image, and the stretched image\n",
        "plt.figure(figsize=(20, 8))\n",
        "plt.subplot(1, 3, 1), plt.imshow(cv2.cvtColor(image, cv2.COLOR_BGR2RGB)), plt.title('Original')\n",
        "plt.subplot(1, 3, 2), plt.imshow(cv2.cvtColor(gamma_corrected, cv2.COLOR_BGR2RGB)), plt.title('Gamma Corrected')\n",
        "plt.subplot(1, 3, 3), plt.imshow(cv2.cvtColor(equalized_image, cv2.COLOR_BGR2RGB)), plt.title('Stretched')\n",
        "plt.tight_layout()\n",
        "plt.show()"
      ]
    },
    {
      "cell_type": "code",
      "execution_count": null,
      "metadata": {
        "colab": {
          "base_uri": "https://localhost:8080/",
          "height": 397
        },
        "id": "KPeqPoSBTuZb",
        "outputId": "5959b33f-b7fa-4f51-ee19-67b74b39c789"
      },
      "outputs": [],
      "source": [
        "import cv2\n",
        "import numpy as np\n",
        "from matplotlib import pyplot as plt\n",
        "\n",
        "# Load the image\n",
        "image = cv2.imread('/content/13.jpg')\n",
        "\n",
        "# Convert the image to floating-point representation\n",
        "image = image.astype(np.float32) / 255.0\n",
        "\n",
        "# Apply Gaussian smoothing\n",
        "smoothed = cv2.GaussianBlur(image, (5, 5), 0)\n",
        "\n",
        "# Perform sharpening using the Laplacian filter\n",
        "laplacian = cv2.Laplacian(smoothed, cv2.CV_32F)\n",
        "sharp = np.clip(image - 0.7 * laplacian, 0, 1)\n",
        "\n",
        "# Convert the sharpened image back to uint8\n",
        "sharp = (sharp * 255).astype(np.uint8)\n",
        "\n",
        "# Display the original image, smoothed image, and sharpened image\n",
        "plt.figure(figsize=(15, 5))\n",
        "plt.subplot(1, 3, 1), plt.imshow(cv2.cvtColor(image, cv2.COLOR_BGR2RGB)), plt.title('Original')\n",
        "plt.subplot(1, 3, 2), plt.imshow(cv2.cvtColor(smoothed, cv2.COLOR_BGR2RGB)), plt.title('Smoothed')\n",
        "plt.subplot(1, 3, 3), plt.imshow(cv2.cvtColor(sharp, cv2.COLOR_BGR2RGB)), plt.title('Sharpened')\n",
        "plt.tight_layout()\n",
        "plt.show()"
      ]
    },
    {
      "cell_type": "markdown",
      "metadata": {
        "id": "uppi6c_2UuEL"
      },
      "source": [
        "image 4"
      ]
    },
    {
      "cell_type": "code",
      "execution_count": null,
      "metadata": {
        "colab": {
          "base_uri": "https://localhost:8080/",
          "height": 323
        },
        "id": "NV2mN2vcUy4O",
        "outputId": "7420ccec-9ecc-4e29-d4cf-15b3599d5f70"
      },
      "outputs": [],
      "source": [
        "import cv2\n",
        "import numpy as np\n",
        "from matplotlib import pyplot as plt\n",
        "\n",
        "# Load the image\n",
        "image = cv2.imread('/content/3a.jpeg')\n",
        "\n",
        "# Split the image into color channels\n",
        "b, g, r = cv2.split(image)\n",
        "\n",
        "# Apply histogram equalization to each color channel\n",
        "eq_b = cv2.equalizeHist(b)\n",
        "eq_g = cv2.equalizeHist(g)\n",
        "eq_r = cv2.equalizeHist(r)\n",
        "\n",
        "# Merge the equalized color channels back into the image\n",
        "equalized_image = cv2.merge((eq_b, eq_g, eq_r))\n",
        "\n",
        "# Display the original and equalized images\n",
        "plt.figure(figsize=(20, 8))\n",
        "plt.subplot(1, 2, 1), plt.imshow(cv2.cvtColor(image, cv2.COLOR_BGR2RGB)), plt.title('Original')\n",
        "plt.subplot(1, 2, 2), plt.imshow(cv2.cvtColor(equalized_image, cv2.COLOR_BGR2RGB)), plt.title('Equalized')\n",
        "plt.tight_layout()\n",
        "plt.show()"
      ]
    },
    {
      "cell_type": "code",
      "execution_count": null,
      "metadata": {
        "colab": {
          "base_uri": "https://localhost:8080/",
          "height": 1000
        },
        "id": "fN9UkNznW0TU",
        "outputId": "6e8515c9-7c5b-4ed0-84dc-a5f463f8176c"
      },
      "outputs": [],
      "source": [
        "import cv2\n",
        "import numpy as np\n",
        "import matplotlib.pyplot as plt\n",
        "\n",
        "# Load the image\n",
        "image = cv2.imread('/content/3a.jpeg')\n",
        "\n",
        "# Split the image into color channels\n",
        "b, g, r = cv2.split(image)\n",
        "\n",
        "# Apply histogram equalization to each color channel\n",
        "eq_b = cv2.equalizeHist(b)\n",
        "eq_g = cv2.equalizeHist(g)\n",
        "eq_r = cv2.equalizeHist(r)\n",
        "\n",
        "# Merge the equalized color channels back into the image\n",
        "equalized_image = cv2.merge((eq_b, eq_g, eq_r))\n",
        "\n",
        "# Perform sharpening using the Laplacian filter\n",
        "laplacian = cv2.Laplacian(equalized_image, cv2.CV_32F)\n",
        "sharp = np.clip(equalized_image - 0.7 * laplacian, 0, 255).astype(np.uint8)\n",
        "\n",
        "# Create a figure and axes\n",
        "fig, axes = plt.subplots(3, 1, figsize=(8, 10))\n",
        "\n",
        "# Display the original image\n",
        "axes[0].imshow(cv2.cvtColor(image, cv2.COLOR_BGR2RGB))\n",
        "axes[0].set_title('Original')\n",
        "axes[0].axis('off')\n",
        "\n",
        "# Display the equalized image\n",
        "axes[1].imshow(cv2.cvtColor(equalized_image, cv2.COLOR_BGR2RGB))\n",
        "axes[1].set_title('Equalized')\n",
        "axes[1].axis('off')\n",
        "\n",
        "# Display the sharpened image\n",
        "axes[2].imshow(cv2.cvtColor(sharp, cv2.COLOR_BGR2RGB))\n",
        "axes[2].set_title('Sharpened')\n",
        "axes[2].axis('off')\n",
        "\n",
        "# Adjust the spacing between subplots\n",
        "plt.tight_layout()\n",
        "\n",
        "# Show the figure\n",
        "plt.show()"
      ]
    },
    {
      "cell_type": "code",
      "execution_count": null,
      "metadata": {
        "colab": {
          "base_uri": "https://localhost:8080/",
          "height": 520
        },
        "id": "zkwE34MFL1go",
        "outputId": "5acf4a7c-a357-4e31-f15b-a3b1b5f8dfcd"
      },
      "outputs": [],
      "source": [
        "import cv2\n",
        "import numpy as np\n",
        "from matplotlib import pyplot as plt\n",
        "\n",
        "# Load the image\n",
        "image = cv2.imread('/content/10.jpg')\n",
        "\n",
        "# Split the image into color channels\n",
        "b, g, r = cv2.split(image)\n",
        "\n",
        "# Apply histogram equalization to each color channel\n",
        "eq_b = cv2.equalizeHist(b)\n",
        "eq_g = cv2.equalizeHist(g)\n",
        "eq_r = cv2.equalizeHist(r)\n",
        "\n",
        "# Merge the equalized color channels back into the image\n",
        "equalized_image = cv2.merge((eq_b, eq_g, eq_r))\n",
        "\n",
        "# Display the original and equalized images\n",
        "plt.figure(figsize=(20, 8))\n",
        "plt.subplot(1, 2, 1), plt.imshow(cv2.cvtColor(image, cv2.COLOR_BGR2RGB)), plt.title('Original')\n",
        "plt.subplot(1, 2, 2), plt.imshow(cv2.cvtColor(equalized_image, cv2.COLOR_BGR2RGB)), plt.title('Equalized')\n",
        "plt.tight_layout()\n",
        "plt.show()"
      ]
    },
    {
      "cell_type": "code",
      "execution_count": null,
      "metadata": {
        "colab": {
          "base_uri": "https://localhost:8080/",
          "height": 523
        },
        "id": "DXm14v8jM9R8",
        "outputId": "7d7cc093-82f4-45f8-dab0-6ed7b1b2491f"
      },
      "outputs": [],
      "source": [
        "import cv2\n",
        "import numpy as np\n",
        "import matplotlib.pyplot as plt\n",
        "\n",
        "# Load an image\n",
        "  # Load your image here\n",
        "image = cv2.cvtColor(equalized_image, cv2.COLOR_BGR2GRAY)  # Convert to grayscale if necessary\n",
        "\n",
        "# Define a Laplacian kernel for sharpening\n",
        "laplacian_kernel = np.array([[0, 1, 0],\n",
        "                             [1, -4, 1],\n",
        "                             [0, 1, 0]])\n",
        "\n",
        "\n",
        "\n",
        "# Add the original and sharpened images side by side for comparison\n",
        "plt.figure(figsize=(10, 5))\n",
        "\n",
        "plt.subplot(1, 2, 1)\n",
        "plt.title('sharp Image')\n",
        "plt.imshow(image, cmap='gray')\n",
        "plt.axis('off')\n",
        "\n",
        "\n",
        "\n",
        "plt.tight_layout()\n",
        "plt.show()\n"
      ]
    },
    {
      "cell_type": "markdown",
      "metadata": {
        "id": "l35TpFjxR-e3"
      },
      "source": [
        "mult image"
      ]
    },
    {
      "cell_type": "code",
      "execution_count": null,
      "metadata": {
        "colab": {
          "base_uri": "https://localhost:8080/",
          "height": 1000
        },
        "id": "IDMaZtpy1ndF",
        "outputId": "34e705eb-a4dd-4447-eedd-85ad7f1d01d4"
      },
      "outputs": [],
      "source": [
        "import cv2\n",
        "import numpy as np\n",
        "import os\n",
        "from zipfile import ZipFile\n",
        "from matplotlib import pyplot as plt\n",
        "\n",
        "# Path to the zip file containing the images\n",
        "zip_file_path = '/content/image processing.zip'  # Replace with the path to your zip file\n",
        "\n",
        "# Extract the images from the zip file to a temporary directory\n",
        "extracted_dir = 'extracted_images'\n",
        "os.makedirs(extracted_dir, exist_ok=True)\n",
        "\n",
        "with ZipFile(zip_file_path, 'r') as zip_ref:\n",
        "    zip_ref.extractall(extracted_dir)\n",
        "\n",
        "# Define the gamma values for the power-law transformation\n",
        "gamma_values = [0.5, 1.0, 1.5, 2.0, 2.5]\n",
        "\n",
        "# Apply power-law (gamma) transformation to each image with different gamma values and display the results\n",
        "for root, _, files in os.walk(extracted_dir):\n",
        "    for file in files:\n",
        "        image_path = os.path.join(root, file)\n",
        "\n",
        "        # Load the image\n",
        "        image = cv2.imread(image_path)\n",
        "\n",
        "        # Check if the image was loaded successfully\n",
        "        if image is not None:\n",
        "            # Display the original image\n",
        "            plt.figure(figsize=(20, 12))\n",
        "            plt.subplot(1, len(gamma_values) + 1, 1)\n",
        "            plt.imshow(cv2.cvtColor(image, cv2.COLOR_BGR2RGB))\n",
        "            plt.title('Original Image')\n",
        "            plt.axis('off')\n",
        "\n",
        "            # Apply the power-law (gamma) transformation with different gamma values and display the transformed images\n",
        "            for i, gamma in enumerate(gamma_values):\n",
        "                # Apply the power-law (gamma) transformation\n",
        "                gamma_transformed_image = np.power(image / 255.0, gamma) * 255.0\n",
        "\n",
        "                # Convert from BGR to RGB (OpenCV loads images as BGR by default)\n",
        "                gamma_transformed_image_rgb = cv2.cvtColor(gamma_transformed_image.astype(np.uint8), cv2.COLOR_BGR2RGB)\n",
        "\n",
        "                # Display the gamma-transformed image\n",
        "                plt.subplot(1, len(gamma_values) + 1, i + 2)\n",
        "                plt.imshow(gamma_transformed_image_rgb)\n",
        "                plt.title('Gamma = {}'.format(gamma))\n",
        "                plt.axis('off')\n",
        "\n",
        "            plt.show()\n",
        "\n",
        "# Clean up: Delete the temporary directory\n",
        "import shutil\n",
        "shutil.rmtree(extracted_dir)"
      ]
    },
    {
      "cell_type": "code",
      "execution_count": null,
      "metadata": {
        "colab": {
          "base_uri": "https://localhost:8080/",
          "height": 1000
        },
        "id": "DKT3i4hb3vqY",
        "outputId": "be9125b7-d8e0-4880-f757-731540e0258d"
      },
      "outputs": [],
      "source": [
        "import cv2\n",
        "import numpy as np\n",
        "import os\n",
        "from zipfile import ZipFile\n",
        "from matplotlib import pyplot as plt\n",
        "\n",
        "# Path to the zip file containing the images\n",
        "zip_file_path = '/content/image processing.zip'  # Replace with the path to your zip file\n",
        "\n",
        "# Extract the images from the zip file to a temporary directory\n",
        "extracted_dir = 'extracted_images'\n",
        "os.makedirs(extracted_dir, exist_ok=True)\n",
        "\n",
        "with ZipFile(zip_file_path, 'r') as zip_ref:\n",
        "    zip_ref.extractall(extracted_dir)\n",
        "\n",
        "# Apply Otsu's thresholding to each image and display the results\n",
        "for root, _, files in os.walk(extracted_dir):\n",
        "    for file in files:\n",
        "        image_path = os.path.join(root, file)\n",
        "\n",
        "        # Load the image\n",
        "        image = cv2.imread(image_path)\n",
        "\n",
        "        # Check if the image was loaded successfully\n",
        "        if image is not None:\n",
        "            # Convert the image to grayscale\n",
        "            gray = cv2.cvtColor(image, cv2.COLOR_BGR2GRAY)\n",
        "\n",
        "            # Apply Otsu's thresholding to create a binary image\n",
        "            _, binary = cv2.threshold(gray, 0, 255, cv2.THRESH_BINARY_INV | cv2.THRESH_OTSU)\n",
        "\n",
        "            # Display the original image and the binary image\n",
        "            plt.figure(figsize=(10, 6))\n",
        "            plt.subplot(1, 2, 1), plt.imshow(cv2.cvtColor(image, cv2.COLOR_BGR2RGB)), plt.title('Original')\n",
        "            plt.subplot(1, 2, 2), plt.imshow(binary, cmap='gray'), plt.title('Binary')\n",
        "            plt.tight_layout()\n",
        "            plt.show()\n",
        "\n",
        "# Clean up: Delete the temporary directory\n",
        "import shutil\n",
        "shutil.rmtree(extracted_dir)"
      ]
    },
    {
      "cell_type": "code",
      "execution_count": null,
      "metadata": {
        "colab": {
          "base_uri": "https://localhost:8080/",
          "height": 1000
        },
        "id": "dlh6LX074edR",
        "outputId": "55ac9467-cbc9-41c3-a827-3de8df1423be"
      },
      "outputs": [],
      "source": [
        "import cv2\n",
        "import numpy as np\n",
        "import os\n",
        "from zipfile import ZipFile\n",
        "from matplotlib import pyplot as plt\n",
        "\n",
        "# Path to the zip file containing the images\n",
        "zip_file_path = '/content/image processing.zip'  # Replace with the path to your zip file\n",
        "\n",
        "# Extract the images from the zip file to a temporary directory\n",
        "extracted_dir = 'extracted_images'\n",
        "os.makedirs(extracted_dir, exist_ok=True)\n",
        "\n",
        "with ZipFile(zip_file_path, 'r') as zip_ref:\n",
        "    zip_ref.extractall(extracted_dir)\n",
        "\n",
        "# Apply sharpening effect, Otsu's thresholding, and display the results\n",
        "for root, _, files in os.walk(extracted_dir):\n",
        "    for file in files:\n",
        "        image_path = os.path.join(root, file)\n",
        "\n",
        "        # Load the image\n",
        "        image = cv2.imread(image_path)\n",
        "\n",
        "        # Check if the image was loaded successfully\n",
        "        if image is not None:\n",
        "            # Convert the image to grayscale\n",
        "            gray = cv2.cvtColor(image, cv2.COLOR_BGR2GRAY)\n",
        "\n",
        "            # Apply sharpening effect using Laplacian filter\n",
        "            sharpened = cv2.Laplacian(gray, cv2.CV_8U, ksize=3)\n",
        "\n",
        "            # Apply Otsu's thresholding to create a binary image\n",
        "            _, binary = cv2.threshold(sharpened, 0, 255, cv2.THRESH_BINARY_INV | cv2.THRESH_OTSU)\n",
        "\n",
        "            # Display the original image, sharpened image, and the binary image\n",
        "            plt.figure(figsize=(12, 6))\n",
        "            plt.subplot(1, 3, 1), plt.imshow(cv2.cvtColor(image, cv2.COLOR_BGR2RGB)), plt.title('Original')\n",
        "            plt.subplot(1, 3, 2), plt.imshow(sharpened, cmap='gray'), plt.title('Sharpened')\n",
        "            plt.subplot(1, 3, 3), plt.imshow(binary, cmap='gray'), plt.title('Binary')\n",
        "            plt.tight_layout()\n",
        "            plt.show()\n",
        "\n",
        "# Clean up: Delete the temporary directory\n",
        "import shutil\n",
        "shutil.rmtree(extracted_dir)"
      ]
    },
    {
      "cell_type": "code",
      "execution_count": null,
      "metadata": {
        "colab": {
          "base_uri": "https://localhost:8080/",
          "height": 1000
        },
        "id": "6RPeSjiQ49ms",
        "outputId": "aa900ad1-821e-407e-ff13-0cac764507ab"
      },
      "outputs": [],
      "source": [
        "import cv2\n",
        "import numpy as np\n",
        "import os\n",
        "from zipfile import ZipFile\n",
        "from matplotlib import pyplot as plt\n",
        "\n",
        "# Path to the zip file containing the images\n",
        "zip_file_path = '/content/image processing.zip'  # Replace with the path to your zip file\n",
        "\n",
        "# Extract the images from the zip file to a temporary directory\n",
        "extracted_dir = 'extracted_images'\n",
        "os.makedirs(extracted_dir, exist_ok=True)\n",
        "\n",
        "with ZipFile(zip_file_path, 'r') as zip_ref:\n",
        "    zip_ref.extractall(extracted_dir)\n",
        "\n",
        "# Apply sharpening effect to each image in the ZIP file and display the results\n",
        "for root, _, files in os.walk(extracted_dir):\n",
        "    for file in files:\n",
        "        image_path = os.path.join(root, file)\n",
        "\n",
        "        # Load the image\n",
        "        image = cv2.imread(image_path)\n",
        "\n",
        "        # Check if the image was loaded successfully\n",
        "        if image is not None:\n",
        "            # Apply sharpening effect using Laplacian filter\n",
        "            sharpened = cv2.Laplacian(image, cv2.CV_8U, ksize=3)\n",
        "\n",
        "            # Display the original image and the sharpened image\n",
        "            plt.figure(figsize=(10, 6))\n",
        "            plt.subplot(1, 2, 1), plt.imshow(cv2.cvtColor(image, cv2.COLOR_BGR2RGB)), plt.title('Original')\n",
        "            plt.subplot(1, 2, 2), plt.imshow(cv2.cvtColor(sharpened, cv2.COLOR_BGR2RGB)), plt.title('Sharpened')\n",
        "            plt.tight_layout()\n",
        "            plt.show()\n",
        "\n",
        "# Clean up: Delete the temporary directory\n",
        "import shutil\n",
        "shutil.rmtree(extracted_dir)"
      ]
    }
  ],
  "metadata": {
    "colab": {
      "provenance": []
    },
    "kernelspec": {
      "display_name": "Python 3",
      "name": "python3"
    },
    "language_info": {
      "name": "python"
    }
  },
  "nbformat": 4,
  "nbformat_minor": 0
}
